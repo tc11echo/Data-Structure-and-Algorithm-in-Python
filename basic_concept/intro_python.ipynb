{
  "cells": [
    {
      "cell_type": "markdown",
      "metadata": {
        "id": "view-in-github",
        "colab_type": "text"
      },
      "source": [
        "<a href=\"https://colab.research.google.com/github/tc11echo/data-structure-and-algorithm-in-python/blob/main/basic_concept/intro_python.ipynb\" target=\"_parent\"><img src=\"https://colab.research.google.com/assets/colab-badge.svg\" alt=\"Open In Colab\"/></a>"
      ]
    },
    {
      "cell_type": "markdown",
      "metadata": {
        "id": "Yv8GOKevAgPQ"
      },
      "source": [
        "# Introduction to Python\n",
        "Python is a high-level, dynamically typed multiparadigm programming language\n",
        "\n",
        "Python code is often said to be almost like pseudocode, since it allows you to express very powerful ideas in very few lines of code while being very readable"
      ]
    },
    {
      "cell_type": "code",
      "execution_count": null,
      "metadata": {
        "colab": {
          "base_uri": "https://localhost:8080/"
        },
        "id": "DUKmN85bAgPV",
        "outputId": "5332522f-8c97-49f3-fd3f-29b2c3880c08"
      },
      "outputs": [
        {
          "output_type": "stream",
          "name": "stdout",
          "text": [
            "hello world!\n",
            "hello world!\n"
          ]
        }
      ],
      "source": [
        "# output\n",
        "# in c++, we distinguish a character and a string by single quotes and double quotes, respectively. however, in python, there is no such a distinction, that is, characters are treated as string\n",
        "print(\"hello world!\") # double quotes\n",
        "print('hello world!') # single quotes. Same as double quotes"
      ]
    },
    {
      "cell_type": "code",
      "execution_count": null,
      "metadata": {
        "colab": {
          "base_uri": "https://localhost:8080/"
        },
        "id": "Sa1wHX7zAgPi",
        "outputId": "1d519bee-0183-45d6-9465-740abe5fd03e"
      },
      "outputs": [
        {
          "output_type": "stream",
          "name": "stdout",
          "text": [
            "enter a string: 1111111111111\n",
            "your input string is: 1111111111111\n"
          ]
        }
      ],
      "source": [
        "# input\n",
        "x=input(\"enter a string: \") # x will be of str type, even if the user gives an integer\n",
        "print(\"your input string is: \"+x)"
      ]
    },
    {
      "cell_type": "markdown",
      "metadata": {
        "id": "xWvtOqvv8OeV"
      },
      "source": [
        "# [Basic Data Type / Data Structure and Operator](../data_structure/python_built_in_data_structure_and_operator.ipynb)\n",
        "* Refer to python_built_in_data_structure_and_operator.ipynb"
      ]
    },
    {
      "cell_type": "code",
      "execution_count": null,
      "metadata": {
        "colab": {
          "base_uri": "https://localhost:8080/"
        },
        "id": "sZ-Q9mzR5h40",
        "outputId": "e0cc8b01-98b3-4bc9-fc44-a214694ebbe1"
      },
      "outputs": [
        {
          "output_type": "stream",
          "name": "stdout",
          "text": [
            "[-1, 2, 3] [-1, 2, 3]\n",
            "140556262318480\n",
            "140556262318480\n",
            "\n",
            "[1, 2, 3] [-1, 2, 3]\n",
            "140556262304096\n",
            "140556201091312\n"
          ]
        }
      ],
      "source": [
        "# assignment operator vs deep copy\n",
        "t1=[1,2,3]  # t1 points to the list [1,2,3]\n",
        "t2=t1     # t2 also points to the same list [1,2,3]. So, now, both t1 and t2 point to the same list [1,2,3]\n",
        "t2[0]=-1    # this will also affect t1, since both t1 and t2 point to the same [1,2,3]\n",
        "print(t1, t2)\n",
        "print(id(t1)) # to check whether two variables point to the same object, we can check their id\n",
        "print(id(t2))\n",
        "\n",
        "\n",
        "print()\n",
        "\n",
        "\n",
        "t1=[1,2,3]\n",
        "t2=t1.copy()  # t2 points to a different [1,2,3] than the one t1 points to\n",
        "t2[0]=-1    # this will NOT affect t1, since both t1 and t2 point to the same [1,2,3]\n",
        "print(t1, t2)\n",
        "print(id(t1))\n",
        "print(id(t2))"
      ]
    },
    {
      "cell_type": "markdown",
      "metadata": {
        "id": "35QRhQZdMiwD"
      },
      "source": [
        "# Flow Control"
      ]
    },
    {
      "cell_type": "code",
      "execution_count": null,
      "metadata": {
        "colab": {
          "base_uri": "https://localhost:8080/"
        },
        "id": "u3RA3cfmAgPh",
        "outputId": "d646689a-d8bc-49c5-fa5a-c049badb611b"
      },
      "outputs": [
        {
          "output_type": "stream",
          "name": "stdout",
          "text": [
            "b larger than a\n"
          ]
        }
      ],
      "source": [
        "# if-else\n",
        "\"\"\"\n",
        "if expression:\n",
        "  statement\n",
        "elif expression:\n",
        "  statement\n",
        "else expression:\n",
        "  statement\n",
        "\"\"\"\n",
        "\n",
        "a,b=1,2\n",
        "if b>a: \n",
        "  print(\"b larger than a\")\n",
        "elif a>b:  # do not write \"else if\" ! \n",
        "  print(\"a larger than b\")\n",
        "else:\n",
        "  print(\"a=b\")"
      ]
    },
    {
      "cell_type": "code",
      "execution_count": null,
      "metadata": {
        "colab": {
          "base_uri": "https://localhost:8080/"
        },
        "id": "wVMZZ3ENAgPh",
        "outputId": "6d4f0fed-5926-4576-8346-8f64326a93f3"
      },
      "outputs": [
        {
          "output_type": "stream",
          "name": "stdout",
          "text": [
            "b larger than a\n"
          ]
        }
      ],
      "source": [
        "# if the body of condition contains one line only, we can put this line right after the colon, like so:\n",
        "\"\"\"\n",
        "if expression: statement\n",
        "elif expression: statement\n",
        "else expression: statement\n",
        "\"\"\"\n",
        "\n",
        "a,b=1,2\n",
        "if b>a: print(\"b larger than a\")\n",
        "elif a>b: print(\"a larger than b\")\n",
        "else: print(\"a=b\")"
      ]
    },
    {
      "cell_type": "code",
      "execution_count": null,
      "metadata": {
        "colab": {
          "base_uri": "https://localhost:8080/"
        },
        "id": "gWga0GWmAgPh",
        "outputId": "fbcd3fca-06d2-4d84-a32d-cf1ac2b991af"
      },
      "outputs": [
        {
          "output_type": "stream",
          "name": "stdout",
          "text": [
            "b larger than a\n",
            "b larger than a\n"
          ]
        }
      ],
      "source": [
        "# short-hand `if-else`. This is like the ternary operator in c++, but the syntax is different\n",
        "\"\"\"\n",
        "statement_1 if expression_1 else statement_2 if expression_2 else statement_3\n",
        "\"\"\"\n",
        "\n",
        "print(\"b larger than a\") if b>a else print(\"b NOT larger than a\")\n",
        "\n",
        "# unlike the ternary operator in C++, in python we can have have multiple else cases:\n",
        "print(\"b larger than a\") if b>a else print(\"a larger than b\") if a >b else print(\"a=b\")"
      ]
    },
    {
      "cell_type": "code",
      "execution_count": null,
      "metadata": {
        "colab": {
          "base_uri": "https://localhost:8080/"
        },
        "id": "K37oMwokAgPf",
        "outputId": "60306391-773d-4b95-d4a1-ec5e942dcd7e"
      },
      "outputs": [
        {
          "output_type": "stream",
          "name": "stdout",
          "text": [
            "cat\n",
            "dog\n",
            "monkey\n"
          ]
        }
      ],
      "source": [
        "# for loop\n",
        "\"\"\"\n",
        "for iteration_variable in iterable_data_type:\n",
        "  statement\n",
        "\"\"\"\n",
        "\n",
        "# You can loop over the elements of a list like this:\n",
        "animals=[\"cat\", \"dog\", \"monkey\"]\n",
        "for animal in animals: # the colon \":\" at the end is necessary\n",
        "  print(animal) # Python does not use curly braces to indicate the body of a loop. Instead, it uses indentation. Here, we use a tab for indentation, but you can use a space or several spaces instead---as long as there are is indentation that will do. But the most common choice is a tab"
      ]
    },
    {
      "cell_type": "code",
      "execution_count": null,
      "metadata": {
        "colab": {
          "base_uri": "https://localhost:8080/"
        },
        "id": "06zJIlsQAgPf",
        "outputId": "8f92ac6f-185d-4d86-af0c-2334446d3dec"
      },
      "outputs": [
        {
          "output_type": "stream",
          "name": "stdout",
          "text": [
            "1 \t2 \t3 \t4 \t5 \t6 \t7 \t8 \t9 \t\n",
            "2 \t4 \t6 \t8 \t10 \t12 \t14 \t16 \t18 \t\n",
            "3 \t6 \t9 \t12 \t15 \t18 \t21 \t24 \t27 \t\n",
            "4 \t8 \t12 \t16 \t20 \t24 \t28 \t32 \t36 \t\n",
            "5 \t10 \t15 \t20 \t25 \t30 \t35 \t40 \t45 \t\n",
            "6 \t12 \t18 \t24 \t30 \t36 \t42 \t48 \t54 \t\n",
            "7 \t14 \t21 \t28 \t35 \t42 \t49 \t56 \t63 \t\n",
            "8 \t16 \t24 \t32 \t40 \t48 \t56 \t64 \t72 \t\n",
            "9 \t18 \t27 \t36 \t45 \t54 \t63 \t72 \t81 \t\n"
          ]
        }
      ],
      "source": [
        "# nested for loop\n",
        "\"\"\"\n",
        "for iteration_variable_1 in iterable_data_type:\n",
        "  for iteration_variable_2 in iterable_data_type:\n",
        "    statement\n",
        "\"\"\"\n",
        "\n",
        "for i in range(1,10):\n",
        "  for j in range(1,10):\n",
        "    print(i*j,\"\\t\", end=\"\")\n",
        "  print()\n",
        "\n",
        "# 1  2  3  4  5  6  7  8  9  \n",
        "# 2  4  6  8  10  12  14  16  18  \n",
        "# 3  6  9  12  15  18  21  24  27  \n",
        "# 4  8  12  16  20  24  28  32  36  \n",
        "# 5  10  15  20  25  30  35  40  45  \n",
        "# 6  12  18  24  30  36  42  48  54  \n",
        "# 7  14  21  28  35  42  49  56  63  \n",
        "# 8  16  24  32  40  48  56  64  72  \n",
        "# 9  18  27  36  45  54  63  72  81  "
      ]
    },
    {
      "cell_type": "code",
      "execution_count": null,
      "metadata": {
        "colab": {
          "base_uri": "https://localhost:8080/"
        },
        "id": "603DdfYhAgPg",
        "outputId": "89720491-8f21-4d58-b2e8-ee22d83667fa"
      },
      "outputs": [
        {
          "output_type": "stream",
          "name": "stdout",
          "text": [
            "5\n",
            "4\n",
            "3\n",
            "2\n",
            "1\n"
          ]
        }
      ],
      "source": [
        "# while loop\n",
        "\"\"\"\n",
        "while expression:\n",
        "  statement\n",
        "\"\"\"\n",
        "\n",
        "# the following while loop print the digits of a numbers in reverse\n",
        "n=12345\n",
        "while n>0:\n",
        "  print(n%10) # get the last digit\n",
        "  n//=10 # remove the last digit"
      ]
    },
    {
      "cell_type": "markdown",
      "source": [
        "# Generator"
      ],
      "metadata": {
        "id": "gI5WBW4vVca5"
      }
    },
    {
      "cell_type": "code",
      "source": [
        "# generator\n",
        "\"\"\"\n",
        "def generator():\n",
        "  yield value\n",
        "\n",
        "for iteration_variable in generator():\n",
        "  statement\n",
        "\"\"\"\n",
        "\n",
        "def generator():\n",
        "  print(\"pass 1\")\n",
        "  yield 3\n",
        "  print(\"pass 2\")\n",
        "  yield 5\n",
        "\n",
        "gen=generator()\n",
        "for i in gen:\n",
        "  print(i)\n",
        "\n",
        "\n",
        "\n",
        "def even_generator(x):\n",
        "  result=0\n",
        "  while i<x:\n",
        "    yield result\n",
        "    result+=2\n",
        "\n",
        "for i in even_generator(16):\n",
        "  print(i)"
      ],
      "metadata": {
        "id": "FXFf8ux0VYBF",
        "outputId": "957b6f4e-a60f-416d-8ef7-80c85042a252",
        "colab": {
          "base_uri": "https://localhost:8080/"
        }
      },
      "execution_count": null,
      "outputs": [
        {
          "output_type": "stream",
          "name": "stdout",
          "text": [
            "pass 1\n",
            "3\n",
            "pass 2\n",
            "5\n",
            "0\n",
            "2\n",
            "4\n",
            "6\n",
            "8\n",
            "10\n",
            "12\n",
            "14\n",
            "16\n"
          ]
        }
      ]
    },
    {
      "cell_type": "code",
      "source": [
        "# class generator\n",
        "\"\"\"\n",
        "class GeneratorClass:\n",
        "  def __init__(self):\n",
        "    statment\n",
        "  \n",
        "  def __iter__(self):\n",
        "    yield value\n",
        "\n",
        "generator_obj=GeneratorClassName()\n",
        "for iteration_variable in generator_obj:\n",
        "  statement\n",
        "\"\"\"\n",
        "\n",
        "class Cube:\n",
        "  def __init__(self):\n",
        "    pass\n",
        "  \n",
        "  def __iter__(self):\n",
        "    i=1\n",
        "    while i<=5:\n",
        "      yield i**3\n",
        "      i+=1\n",
        "\n",
        "cube=Cube()\n",
        "for i in cube:\n",
        "  print(i)"
      ],
      "metadata": {
        "id": "bsC1IJwEVr-G",
        "outputId": "a02bbecd-43de-4ed4-d621-f69b29df7dac",
        "colab": {
          "base_uri": "https://localhost:8080/"
        }
      },
      "execution_count": null,
      "outputs": [
        {
          "output_type": "stream",
          "name": "stdout",
          "text": [
            "1\n",
            "8\n",
            "27\n",
            "64\n",
            "125\n"
          ]
        }
      ]
    },
    {
      "cell_type": "markdown",
      "metadata": {
        "id": "lHMKQnxuMari"
      },
      "source": [
        "# Function"
      ]
    },
    {
      "cell_type": "code",
      "execution_count": null,
      "metadata": {
        "colab": {
          "base_uri": "https://localhost:8080/"
        },
        "id": "Q5tFmz4LAgPj",
        "outputId": "cd70cb91-3e47-4704-817b-0c7841a25ae7"
      },
      "outputs": [
        {
          "output_type": "stream",
          "name": "stdout",
          "text": [
            "negative\n",
            "zero\n",
            "positive\n",
            "4\n"
          ]
        }
      ],
      "source": [
        "# function\n",
        "\"\"\"\n",
        "def func0(parameter_1, parameter_2:data_type, parameter_3=default_value):\n",
        "  statement\n",
        "  return expression\n",
        "\n",
        "func0(argument_1,parameter_2)\n",
        "\n",
        "\n",
        "def func1(parameter):\n",
        "  statement\n",
        "  return expression\n",
        "\n",
        "\n",
        "def func2(parameter:data_type):\n",
        "  statement\n",
        "  return expression\n",
        "\n",
        "\n",
        "def func3(parameter=default_value):\n",
        "  statement\n",
        "  return expression\n",
        "\n",
        "def func_to_be_implement():  # in python, the function body must not be empty. To get around this, use \"pass\" keyword\n",
        "  pass\n",
        "\"\"\"\n",
        "\n",
        "# python functions are defined using the def keyword\n",
        "def func(x):\n",
        "  if x>0:\n",
        "    return \"positive\"\n",
        "  elif x<0:\n",
        "    return \"negative\"\n",
        "  else:\n",
        "    return \"zero\"\n",
        "\n",
        "for x in [-1, 0, 1]:\n",
        "  print(func(x))\n",
        "\n",
        "\n",
        "# \":\" in \"<variable>:<data type>\" limited the parameter data type\"\n",
        "def func(x:int):\n",
        "  print(x)\n",
        "\n",
        "func(4)"
      ]
    },
    {
      "cell_type": "code",
      "execution_count": null,
      "metadata": {
        "colab": {
          "base_uri": "https://localhost:8080/"
        },
        "id": "bbz_nuiTAgPk",
        "outputId": "c140743a-1d75-41fc-f8d1-f6ecc2c05e6a"
      },
      "outputs": [
        {
          "output_type": "stream",
          "name": "stdout",
          "text": [
            "(100, 1000)\n"
          ]
        }
      ],
      "source": [
        "# if a function needs to returns several values, we can allow it to return a tuple instead:\n",
        "def square_cube(x):\n",
        "  return x**2, x**3 # return a tuple of two numbers\n",
        "  # return (x**2, x**3) # we can also add a pair of parentheses, but it\"s optional\n",
        "\n",
        "print(square_cube(10)) # print a tuple, since the function returns a tuple"
      ]
    },
    {
      "cell_type": "code",
      "execution_count": null,
      "metadata": {
        "colab": {
          "base_uri": "https://localhost:8080/"
        },
        "id": "n8yk9i5SAgPk",
        "outputId": "5aabf48a-be80-4f58-b9b9-041e99e9c0f3"
      },
      "outputs": [
        {
          "output_type": "stream",
          "name": "stdout",
          "text": [
            "Hello, Alice\n",
            "HELLO, BOB!\n"
          ]
        }
      ],
      "source": [
        "# default parameters\n",
        "# We will often define functions to take optional arguments, like so:\n",
        "def hello(name, loud=False): # the parameter loud defaults to False. That is, if the user doesn\"t provide this parameter, then the value will be False\n",
        "  if loud: # if loud is True\n",
        "    print(f\"HELLO, {name.upper()}!\") # upper() method changes all lower-case letters to upper-case\n",
        "  else: # if loud is False\n",
        "    print(f\"Hello, {name}\")\n",
        "\n",
        "hello(\"Alice\") # Prints \"Hello, Alice\"\n",
        "hello(\"Bob\", loud=True)  # Prints \"HELLO, BOB!\""
      ]
    },
    {
      "cell_type": "code",
      "execution_count": null,
      "metadata": {
        "colab": {
          "base_uri": "https://localhost:8080/"
        },
        "id": "I93r1gOvl5hy",
        "outputId": "3941baa8-693d-407b-b867-badc5637f5d1"
      },
      "outputs": [
        {
          "output_type": "stream",
          "name": "stdout",
          "text": [
            "(3, 4)\n",
            "1.5\n",
            "3.5\n"
          ]
        }
      ],
      "source": [
        "\"\"\"\n",
        "def func(*infinite_parameter):   # all arguments will cobine into a tuple and store in infinite_parameter\n",
        "  statement\n",
        "  return expression\n",
        "\n",
        "func(arg1,arg2,arg3,...)\n",
        "\"\"\"\n",
        "\n",
        "def func(*ns):\n",
        "  print(ns)\n",
        "func(3,4)\n",
        "\n",
        "def avg(*ns):\n",
        "  sum=0\n",
        "  for x in ns:\n",
        "    sum+=x\n",
        "    print(sum/len(ns))  \n",
        "avg(3,4)\n",
        "#avg(3,4,10,55)"
      ]
    },
    {
      "cell_type": "markdown",
      "metadata": {
        "id": "TjooeIRma9SJ"
      },
      "source": [
        "# Recursion"
      ]
    },
    {
      "cell_type": "code",
      "execution_count": null,
      "metadata": {
        "colab": {
          "base_uri": "https://localhost:8080/"
        },
        "id": "sy_ak08vJb8P",
        "outputId": "9d87a8ee-c9a6-4d59-8f98-09b6731067ff"
      },
      "outputs": [
        {
          "output_type": "stream",
          "name": "stdout",
          "text": [
            " at level :0 x=5\n",
            "   at level :1 x=4\n",
            "     at level :2 x=3\n",
            "       at level :3 x=2\n",
            "         base case x=1\n",
            "       at level :3 f=1\n",
            "       at level : 3 before return :2\n",
            "     at level :2 f=2\n",
            "     at level : 2 before return :6\n",
            "   at level :1 f=6\n",
            "   at level : 1 before return :24\n",
            " at level :0 f=24\n",
            " at level : 0 before return :120\n",
            "what is r: 120\n"
          ]
        }
      ],
      "source": [
        "# recursion\n",
        "# n!=1*2 * .... * n\n",
        "\n",
        "def factorial (x:int, level:int):\n",
        "  if x == 1:\n",
        "    print(\"  \" * level+\" base case x=\"+str(x))\n",
        "    return 1 # base case\n",
        "  else:\n",
        "    print(\"  \" * level+\" at level :\"+str(level)+\" x=\"+str(x))\n",
        "    f=factorial(x-1, level+1)\n",
        "    print(\"  \" * level+\" at level :\"+str(level)+\" f=\"+str(f))\n",
        "    r=x * f\n",
        "    print(\"  \" * level+\" at level : \"+str(level)+\" before return :\"+str(r))\n",
        "    return r # iteration\n",
        "\n",
        "r=factorial(5, 0)\n",
        "print(f\"what is r: {r}\")"
      ]
    },
    {
      "cell_type": "code",
      "execution_count": null,
      "metadata": {
        "colab": {
          "base_uri": "https://localhost:8080/"
        },
        "id": "uqSjssoIAgPk",
        "outputId": "f0f29747-a65a-460c-de36-4d89a7a04b6d"
      },
      "outputs": [
        {
          "output_type": "stream",
          "name": "stdout",
          "text": [
            "15\n",
            "5\n",
            "1\n"
          ]
        }
      ],
      "source": [
        "# aggregate functions: sum, max, and min\n",
        "# in fact, we\"ll learn more powerful aggregate functions when we talk about Numpy, a data science package in python. So, we\"ll just briefly talk about sum, max and min that are python\"s built-in.\n",
        "\n",
        "t=[1,2,3,4,5]\n",
        "print(sum(t)) # 15. sum takes an iterable as input. So, do not give several numbers as input! We need to put these numbers in a list!\n",
        "# print(sum(1,2,3)) # error! We need to put the numbers in a list. Here, we are giving three inputs, rather than a single input of list type!\n",
        "print(max(t)) # 5\n",
        "print(min(t)) # 1"
      ]
    },
    {
      "cell_type": "markdown",
      "metadata": {
        "id": "HvswRxYLXWz6"
      },
      "source": [
        "# Lambda Function\n",
        "* Anonymous function (i.e. no function name)\n",
        "* Only one expression\n",
        "* Automatically return result no need keyword `return`"
      ]
    },
    {
      "cell_type": "code",
      "execution_count": null,
      "metadata": {
        "colab": {
          "base_uri": "https://localhost:8080/"
        },
        "id": "EC5PbxjqXfmt",
        "outputId": "25e17183-b48d-4292-b467-45fe6d3973cd"
      },
      "outputs": [
        {
          "output_type": "stream",
          "name": "stdout",
          "text": [
            "3\n",
            "5\n",
            "6\n"
          ]
        }
      ],
      "source": [
        "# lambda function\n",
        "\"\"\"\n",
        "func_name=lambda parameter,...: expression\n",
        "\n",
        "(lambda parameter_1, parameter_2: expression)(arg1, arg2)\n",
        "\"\"\"\n",
        "\n",
        "f=lambda x,y:x+y\n",
        "print(f(1,2))\n",
        "print(f(2,3))\n",
        "\n",
        "f=(lambda x,y:x+y)(4,2)\n",
        "print(f)"
      ]
    },
    {
      "cell_type": "code",
      "execution_count": null,
      "metadata": {
        "colab": {
          "base_uri": "https://localhost:8080/"
        },
        "id": "FYKwwgAo1tB0",
        "outputId": "22ccae8d-4a1c-4b53-953c-1e5e07a59596"
      },
      "outputs": [
        {
          "output_type": "stream",
          "name": "stdout",
          "text": [
            "[36.5, 38.5, 37.5, 36, 38, 35]\n",
            "<map object at 0x7fd5ca6ee150>\n",
            "[97.7, 101.3, 99.5, 96.8, 100.4, 95.0]\n",
            "<map object at 0x7fd5d09d6450>\n",
            "[]\n"
          ]
        }
      ],
      "source": [
        "\"\"\"\n",
        "# map() applies the function to all the elements of the sequence seq. It returns a new list with the elements changed by func\n",
        "map(func, seq)\n",
        "\"\"\"\n",
        "\n",
        "def cal_fahrenheit(T):\n",
        "  return ((float(9)/5)*T+32)\n",
        "def cal_celsius(T):\n",
        "  return (float(5)/9)*(T-32)\n",
        "\n",
        "original_list=[36.5,38.5,37.5,36,38,35]\n",
        "fahrenheit_obj=map(cal_fahrenheit, original_list) #return object\n",
        "celsius_obj=map(cal_celsius, fahrenheit_obj) #object mapped twice will become empty\n",
        "\n",
        "print(original_list)\n",
        "\n",
        "print(fahrenheit_obj)\n",
        "print(list(fahrenheit_obj))\n",
        "\n",
        "print(celsius_obj)\n",
        "print(list(celsius_obj))"
      ]
    },
    {
      "cell_type": "code",
      "execution_count": null,
      "metadata": {
        "colab": {
          "base_uri": "https://localhost:8080/"
        },
        "id": "MC_gAcCa1zxn",
        "outputId": "8fc9bc6a-52a0-4b82-b849-6477205c8bae"
      },
      "outputs": [
        {
          "output_type": "stream",
          "name": "stdout",
          "text": [
            "[39.2, 36.5, 37.3, 37.8]\n",
            "[102.56, 97.7, 99.14, 100.03999999999999]\n"
          ]
        }
      ],
      "source": [
        "original_list=[39.2, 36.5, 37.3, 37.8]\n",
        "\n",
        "fahrenheit_obj=map((lambda x: (float(9)/5)*x+32), original_list)\n",
        "\n",
        "print(original_list)\n",
        "print(list(fahrenheit_obj))"
      ]
    },
    {
      "cell_type": "markdown",
      "metadata": {
        "id": "G18E0Al7A8G_"
      },
      "source": [
        "# Callback Function\n",
        "* Pass a function into other function"
      ]
    },
    {
      "cell_type": "code",
      "execution_count": null,
      "metadata": {
        "colab": {
          "base_uri": "https://localhost:8080/"
        },
        "id": "k5Jx0owjBDTv",
        "outputId": "12c127a3-7463-4297-b543-27abe05d42e5"
      },
      "outputs": [
        {
          "output_type": "stream",
          "name": "stdout",
          "text": [
            "result is: 9\n",
            "answer is: 3\n"
          ]
        }
      ],
      "source": [
        "\"\"\"\n",
        "def func(parameter_func):\n",
        "  parameter_func(variable)\n",
        "\n",
        "def callback_func(parameter):\n",
        "  statement\n",
        "\n",
        "func(callback_func)\n",
        "\"\"\"\n",
        "\n",
        "def add(n1, n2, cb):\n",
        "  cb(n1+n2)\n",
        "\n",
        "def handle1(result): # callback function\n",
        "  print(\"result is: \"+str(result))\n",
        "\n",
        "def handle2(answer): # callback function\n",
        "  print(\"answer is: \"+str(answer))\n",
        "\n",
        "add(4, 5, handle1)\n",
        "add(2, 1, handle2)"
      ]
    },
    {
      "cell_type": "markdown",
      "source": [
        "# Hook Function\n",
        "* Similar with callback function"
      ],
      "metadata": {
        "id": "W8V4zc4G91aV"
      }
    },
    {
      "cell_type": "code",
      "execution_count": null,
      "metadata": {
        "colab": {
          "base_uri": "https://localhost:8080/"
        },
        "id": "EqCDefo19uDr",
        "outputId": "b5987456-09a1-492e-d779-343b77c36da6"
      },
      "outputs": [
        {
          "output_type": "stream",
          "name": "stdout",
          "text": [
            "Tom get up\n",
            "Tom : The meat is nice!!!\n",
            "Jerry get up\n",
            "Jerry : The hamburger is not so bad!!!\n"
          ]
        }
      ],
      "source": [
        "class Person(object):\n",
        "  def __init__(self, name):\n",
        "    self.name=name\n",
        "    self.dinner_func=None # hook location\n",
        "\n",
        "  def get_up(self):\n",
        "    print(f\"{self.name} get up\")\n",
        "\n",
        "  def register_dinner_hook(self, dinner_func):\n",
        "    self.dinner_func=dinner_func\n",
        "\n",
        "  def enjoy_a_day(self):\n",
        "    self.get_up()\n",
        "    # dinner --> check the dinner_func (hooked or unhooked) --> hooked\n",
        "    if self.dinner_func is not None:\n",
        "      self.dinner_func(self.name)\n",
        "    else: # unhooked\n",
        "      print(\"nothing to eat at dinner\")\n",
        "\n",
        "# hook function\n",
        "def eat_meat(name):\n",
        "  print(f\"{name} : The meat is nice!!!\")\n",
        "\n",
        "def eat_hamburger(name):\n",
        "  print(f\"{name} : The hamburger is not so bad!!!\")\n",
        "\n",
        "\n",
        "tom=Person(\"Tom\")\n",
        "jerry=Person(\"Jerry\")\n",
        "# register hook\n",
        "tom.register_dinner_hook(eat_meat)\n",
        "jerry.register_dinner_hook(eat_hamburger)\n",
        "# enjoy a day\n",
        "tom.enjoy_a_day()\n",
        "jerry.enjoy_a_day()"
      ]
    },
    {
      "cell_type": "markdown",
      "metadata": {
        "id": "1wLl2_HSHbJB"
      },
      "source": [
        "# Decorator and Decorator Factory\n",
        "* Decorator: no parameter\n",
        "* Decorator Factory: with parameter"
      ]
    },
    {
      "cell_type": "code",
      "execution_count": null,
      "metadata": {
        "colab": {
          "base_uri": "https://localhost:8080/"
        },
        "id": "0kC9zyGjHYJ3",
        "outputId": "1c0c7a2a-c0a4-4d84-a06f-e74c9f9b0c27"
      },
      "outputs": [
        {
          "output_type": "stream",
          "name": "stdout",
          "text": [
            "used time: 5.7220458984375e-06\n",
            "50\n",
            "used time: 1.1920928955078125e-06\n",
            "50\n"
          ]
        }
      ],
      "source": [
        "# decorator\n",
        "\"\"\"\n",
        "def decorator(callback_func):\n",
        "  def inner_func():\n",
        "    statement\n",
        "    callback_func()\n",
        "  return inner_func\n",
        "\n",
        "@decorator\n",
        "def decorated_func():\n",
        "  statement\n",
        "\n",
        "decorated_func()\n",
        "\"\"\"\n",
        "\n",
        "import time\n",
        "\n",
        "def check_run_time(callback):\n",
        "  def wrapper(run_number):\n",
        "    ts=time.time()\n",
        "    result=callback(run_number)\n",
        "    te=time.time()\n",
        "    print(f\"used time: {te-ts}\")\n",
        "    return result\n",
        "  return wrapper\n",
        "\n",
        "@check_run_time\n",
        "def for_looping(x):\n",
        "  result=0\n",
        "  for i in range(x):\n",
        "    result+=i\n",
        "  return x\n",
        "\n",
        "@check_run_time\n",
        "def while_looping(x):\n",
        "  result=0\n",
        "  i=0\n",
        "  while i!=0:\n",
        "    result+=i\n",
        "    i+=x\n",
        "  return x\n",
        "\n",
        "print(for_looping(50))\n",
        "print(while_looping(50))"
      ]
    },
    {
      "cell_type": "code",
      "execution_count": null,
      "metadata": {
        "colab": {
          "base_uri": "https://localhost:8080/"
        },
        "id": "c8jiX367RgKc",
        "outputId": "6c7251e0-3848-4b80-f319-eb375ad8d6a6"
      },
      "outputs": [
        {
          "output_type": "stream",
          "name": "stdout",
          "text": [
            "for loop used: 5.7220458984375e-06\n",
            "50\n",
            "while loop used: 1.6689300537109375e-06\n",
            "50\n"
          ]
        }
      ],
      "source": [
        "# decorator factory\n",
        "\"\"\"\n",
        "def decorator_factory(parameter,...):\n",
        "  def decorator(callback_func):\n",
        "    def inner_func():\n",
        "      statement\n",
        "      callback_func()\n",
        "    return inner_func\n",
        "  return decorator\n",
        "\n",
        "@decorator_factory(argument,...)\n",
        "def decorated_func():\n",
        "  statement\n",
        "\n",
        "decorated_func()\n",
        "\"\"\"\n",
        "\n",
        "import time\n",
        "\n",
        "def check_run_time_with_para(print_str):\n",
        "  def check_run_time(callback):\n",
        "    def wrapper(run_number):\n",
        "      ts=time.time()\n",
        "      result=callback(run_number)\n",
        "      te=time.time()\n",
        "      print(f\"{print_str}: {te-ts}\")\n",
        "      return result\n",
        "    return wrapper\n",
        "  return check_run_time\n",
        "\n",
        "@check_run_time_with_para(\"for loop used\")\n",
        "def for_looping(x):\n",
        "  result=0\n",
        "  for i in range(x):\n",
        "    result+=i\n",
        "  return x\n",
        "\n",
        "@check_run_time_with_para(\"while loop used\")\n",
        "def while_looping(x):\n",
        "  result=0\n",
        "  i=0\n",
        "  while i!=0:\n",
        "    result+=i\n",
        "    i+=x\n",
        "  return x\n",
        "\n",
        "print(for_looping(50))\n",
        "print(while_looping(50))"
      ]
    },
    {
      "cell_type": "markdown",
      "metadata": {
        "id": "hu2DT4OyAgPl"
      },
      "source": [
        "# Object Oriented Programming in Python\n",
        "unlike C++, python doesn\"t have access specifier (i.e., no `private`, `public` keywords), but u can follow the naming rule below to have better identification:\n",
        "* vari --> public\n",
        "* _vari --> protected\n",
        "* __vari --> private\n",
        "* func --> public\n",
        "* _func --> protected\n",
        "* __func --> private\n",
        "* \\_\\_func__ --> magic function: only can be use, never create\n"
      ]
    },
    {
      "cell_type": "code",
      "execution_count": null,
      "metadata": {
        "colab": {
          "base_uri": "https://localhost:8080/"
        },
        "id": "YwPq5YivAgPl",
        "outputId": "5bce9456-41c5-4fdd-cd36-6806eeb00fe8"
      },
      "outputs": [
        {
          "output_type": "stream",
          "name": "stdout",
          "text": [
            "100\n",
            "bob is 4 years old\n",
            "bob eats meat\n"
          ]
        }
      ],
      "source": [
        "\"\"\"\n",
        "class ClassName:\n",
        "  staic_variable=100          # class/staic variable\n",
        "\n",
        "  def __init__(self, parameter):   # constructor\n",
        "    self.instance_variable=parameter # instance variable\n",
        "  \n",
        "  def instance_method(self):   # instance method\n",
        "    statment\n",
        "  \n",
        "  @classmethod\n",
        "  def my_class_method(cls):      # class method\n",
        "    statment\n",
        "    e.g. print(cls.instance_variable)\n",
        "\n",
        "  @staticmethod\n",
        "  def my_static_method():       # static method\n",
        "    statment\n",
        "\"\"\"\n",
        "\n",
        "class Dog:\n",
        "  new_const=100\n",
        "  def __init__(self, name, age):\n",
        "    # name and age are instance attributes\n",
        "    self.name=name\n",
        "    self.age=age\n",
        "\n",
        "  # instance method\n",
        "  def description(self):\n",
        "    return f\"{self.name} is {self.age} years old\"\n",
        "\n",
        "  # instance method\n",
        "  def eat(self, food):\n",
        "    return f\"{self.name} eats {food}\"\n",
        "\n",
        "d1=Dog(\"bob\", 4) \n",
        "print(d1.new_const)\n",
        "print(d1.description())\n",
        "print(d1.eat(\"meat\"))"
      ]
    },
    {
      "cell_type": "code",
      "source": [
        "# inheritance\n",
        "\"\"\"\n",
        "class Parent:\n",
        "  def __init__(self, parameter):   # constructor\n",
        "    self.instance_variable=parameter # instance variable\n",
        "\n",
        "  def instance_method(self):\n",
        "    statment_1\n",
        "\n",
        "class Child(Parent):\n",
        "  def __init__(self, parameter_1, parameter_2):\n",
        "    super().__init__(parameter_1)\n",
        "    self.instance_variable=parameter_2\n",
        "\n",
        "  def instance_method(self):\n",
        "    statment_2\n",
        "\n",
        "obj=Child(arg_1, arg_2)\n",
        "obj.instance_method()           # will run instance_method in Child (aka. statment_2)\n",
        "\"\"\""
      ],
      "metadata": {
        "id": "A1s5R6CK7_7E",
        "outputId": "3aae457d-01a3-44ee-9709-b7378af3299e",
        "colab": {
          "base_uri": "https://localhost:8080/"
        }
      },
      "execution_count": null,
      "outputs": [
        {
          "output_type": "execute_result",
          "data": {
            "text/plain": [
              "'\\nclass Parent:\\n  def __init__(self, parameter):   # constructor\\n    self.instance_variable=parameter # instance variable\\n\\n  def instance_method(self):\\n    statment_1\\n\\nclass Child(Parent):\\n  def __init__(self, parameter_1, parameter_2):\\n    super().__init__(parameter_1)\\n    self.instance_variable=parameter_2\\n\\n  def instance_method(self):\\n    statment_2\\n\\nobj=Child(arg_1, arg_2)\\nobj.instance_method()           # will run instance_method in Child (aka. statment_2)\\n'"
            ],
            "application/vnd.google.colaboratory.intrinsic+json": {
              "type": "string"
            }
          },
          "metadata": {},
          "execution_count": 102
        }
      ]
    },
    {
      "cell_type": "code",
      "source": [
        "# polymorphism"
      ],
      "metadata": {
        "id": "CC9Nu1aF7Qfk"
      },
      "execution_count": null,
      "outputs": []
    },
    {
      "cell_type": "code",
      "execution_count": null,
      "metadata": {
        "colab": {
          "base_uri": "https://localhost:8080/"
        },
        "id": "uBWuBtepJUZ_",
        "outputId": "fb0c8fac-0080-40ea-f5b1-68a2e17de31a"
      },
      "outputs": [
        {
          "output_type": "stream",
          "name": "stdout",
          "text": [
            "Inside __eq__: <__main__.Student object at 0x7fd5d02ba390>\n",
            "s1==s2 ?: False\n"
          ]
        }
      ],
      "source": [
        "# operator overloading\n",
        "class Student:\n",
        "  def __init__(self, name, age, mark):\n",
        "    self.name=name\n",
        "    self.age=age\n",
        "    self.dsa_score=mark\n",
        "\n",
        "  def __eq__(self, other): #==\n",
        "    print(f\"Inside __eq__: {other}\")\n",
        "    if isinstance(other, Student):\n",
        "      return self.dsa_score == other.dsa_score\n",
        "    raise Exception(f\"{type(other)} not match !\")\n",
        "\n",
        "  def __lt__(self, other): #<\n",
        "    if isinstance(other, Student):\n",
        "      print(\"this is same instance .... \")\n",
        "      return self.dsa_score<other.dsa_score\n",
        "    raise Exception(f\"{type(other)} not match !\")\n",
        "\n",
        "  def __le__(self, other): #<=\n",
        "    return self.dsa_score <= other.dsa_score\n",
        "\n",
        "  def __gt__(self, other): #>\n",
        "    pass\n",
        "\n",
        "  def __ge__(self, other): #>=\n",
        "    pass\n",
        "\n",
        "  def __ne__(self, other): #!=\n",
        "    pass\n",
        "    \n",
        "s1=Student(\"Francis\", 20, 40)\n",
        "s2=Student(\"Sylvia\", 30, 50)\n",
        "print(f\"s1==s2 ?: {s1 == s2}\")"
      ]
    },
    {
      "cell_type": "code",
      "execution_count": null,
      "metadata": {
        "colab": {
          "base_uri": "https://localhost:8080/"
        },
        "id": "cTMITFj4laIv",
        "outputId": "e213d86f-90ff-4a3a-bdfb-c45ba022609c"
      },
      "outputs": [
        {
          "output_type": "stream",
          "name": "stdout",
          "text": [
            "what is B[0]: <__main__.A object at 0x7fd5ca051dd0>\n",
            "What is type of B[0]: <class '__main__.A'>\n",
            "read 0th data of list B: Hello\n",
            "read next data at 0th data of list B: Francis\n",
            "read B[1]: <__main__.A object at 0x7fd5ca051150> type is: <class '__main__.A'>\n",
            "read another data: Loewe\n"
          ]
        }
      ],
      "source": [
        "# some question on extracting data in Python\n",
        "class A:\n",
        "  def __init__(self, d, n):\n",
        "    self.next=n\n",
        "    self.data=d\n",
        "\n",
        "B=[]\n",
        "B.append(A(\"Hello\", A(\"Francis\", None)))\n",
        "B.append(A(\"Loewe\", None))\n",
        "\n",
        "print(f\"what is B[0]: {B[0]}\")\n",
        "print(f\"What is type of B[0]: {type(B[0])}\")\n",
        "print(f\"read 0th data of list B: {B[0].data}\")\n",
        "print(f\"read next data at 0th data of list B: {B[0].next.data}\")\n",
        "print(f\"read B[1]: {B[1]} type is: {type(B[1])}\")\n",
        "print(f\"read another data: {B[1].data}\")"
      ]
    },
    {
      "cell_type": "markdown",
      "metadata": {
        "id": "1d8SV1ld_reO"
      },
      "source": [
        "# Import Module\n",
        "[For searching the module](https://pypi.org/)"
      ]
    },
    {
      "cell_type": "code",
      "execution_count": null,
      "metadata": {
        "colab": {
          "base_uri": "https://localhost:8080/"
        },
        "id": "91p83Ogli4xJ",
        "outputId": "05440840-840a-4e1c-abc6-96f43a37bbc8"
      },
      "outputs": [
        {
          "output_type": "stream",
          "name": "stdout",
          "text": [
            "2.0\n",
            "2.0\n",
            "2.0\n"
          ]
        }
      ],
      "source": [
        "import math # import whole math libaray\n",
        "print(math.sqrt(4))\n",
        "\n",
        "from math import sqrt # import sqrt() only\n",
        "print(sqrt(4))\n",
        "\n",
        "from math import sqrt as square_root # import sqrt() and rename\n",
        "print(square_root(4))"
      ]
    },
    {
      "cell_type": "code",
      "execution_count": null,
      "metadata": {
        "colab": {
          "base_uri": "https://localhost:8080/"
        },
        "id": "OgYkupVjlf64",
        "outputId": "56d22c54-472d-40d3-c3a0-3b461e87e986"
      },
      "outputs": [
        {
          "output_type": "stream",
          "name": "stdout",
          "text": [
            "  % Total    % Received % Xferd  Average Speed   Time    Time     Time  Current\n",
            "                                 Dload  Upload   Total   Spent    Left  Speed\n",
            "\r  0     0    0     0    0     0      0      0 --:--:-- --:--:-- --:--:--     0\r100   330  100   330    0     0  11000      0 --:--:-- --:--:-- --:--:-- 11379\n"
          ]
        }
      ],
      "source": [
        "# about this command just for fetching example_module.py to google colab, refer to file i/o for more\n",
        "!curl --remote-name -H 'Accept: application/vnd.github.v3.raw' --location https://raw.githubusercontent.com/tc11echo/data-structure-and-algorithm-in-python/main/basic_concept/example_module.py"
      ]
    },
    {
      "cell_type": "markdown",
      "source": [
        "[example_module.py](example_module.py)"
      ],
      "metadata": {
        "id": "WSE0nzLxQ2i9"
      }
    },
    {
      "cell_type": "code",
      "execution_count": null,
      "metadata": {
        "colab": {
          "base_uri": "https://localhost:8080/"
        },
        "id": "REO5fc8rllQa",
        "outputId": "790accc9-9063-4b20-e21c-12b332d0b20e"
      },
      "outputs": [
        {
          "output_type": "stream",
          "name": "stdout",
          "text": [
            "func1 executed\n"
          ]
        }
      ],
      "source": [
        "import example_module # use \".\" instead of \"/\" for accessing folder\n",
        "example_module.func1()"
      ]
    },
    {
      "cell_type": "code",
      "execution_count": null,
      "metadata": {
        "colab": {
          "base_uri": "https://localhost:8080/"
        },
        "id": "N5pGc4mTm0JQ",
        "outputId": "f76f8e1a-4d08-411f-cbe9-4ca04fb92bf8"
      },
      "outputs": [
        {
          "output_type": "stream",
          "name": "stdout",
          "text": [
            "20\n",
            "[5, 6, 1]\n",
            "[10, 40, 30, 20]\n",
            "0.5779717553170927\n",
            "52.156337361786434\n",
            "89.47938096177222\n",
            "4\n",
            "7\n",
            "11.349008767288888\n"
          ]
        }
      ],
      "source": [
        "# random module\n",
        "import random\n",
        "# random choice\n",
        "data=random.choice([1,5,6,10,20])\n",
        "print(data)\n",
        "data=random.sample([1,5,6,10,20],3)\n",
        "print(data)\n",
        "# random swap(洗牌)\n",
        "data=[10,20,30,40]\n",
        "random.shuffle(data)\n",
        "print(data)\n",
        "\n",
        "# random number\n",
        "data=random.random() # random number between 0-1 \n",
        "print(data)\n",
        "data=random.uniform(30,60) # random number between 30-60\n",
        "print(data)\n",
        "\n",
        "# random number with stdev\n",
        "data=random.normalvariate(100,10)\n",
        "# mean=100，stdev=10 得到資料大多數在90-100間\n",
        "print(data)\n",
        "\n",
        "#statistics module \n",
        "import statistics as stat\n",
        "data=stat.mean([1,3,5,7])#mean\n",
        "print(data)\n",
        "data=stat.median([1,30,5,7,9])#median\n",
        "print(data)\n",
        "data=stat.stdev([1,30,5,7,9])#stdev\n",
        "print(data)"
      ]
    },
    {
      "cell_type": "markdown",
      "metadata": {
        "id": "4statdZpU2bE"
      },
      "source": [
        "# File IO\n",
        "\n",
        "|Character|Meaning|\n",
        "|---|---|\n",
        "|r|open for reading (default)|\n",
        "|w|open for writing, truncating the file first|\n",
        "|x|open for exclusive creation, failing if the file already exists|\n",
        "|a|open for writing, appending to the end of the file if it exists|\n",
        "|b|binary mode|\n",
        "|t|text mode (default)|\n",
        "|+|open a disk file for updating (reading and writing)|\n",
        "|U|universal newlines mode (deprecated)|\n",
        "\n",
        "### Path\n",
        "* Absolute path\n",
        "* Relative path\n",
        "\n",
        "### Path under different OS\n",
        "* URL: use `/`\n",
        "* Mac/Linux: `/folder/example.txt`\n",
        "* Windows: `D:\\folder\\example.txt`\n",
        "* Back to parent folder`../folder/example.txt`"
      ]
    },
    {
      "cell_type": "code",
      "source": [
        "import os\n",
        "print(os.getcwd()) # print the working directory\n",
        "\n",
        "# for using commands in jupyter notebook add a \"!\" in the front\n",
        "!ls"
      ],
      "metadata": {
        "id": "y-c7WMIsyhKG",
        "outputId": "08ec7d22-b169-4ee9-9fde-99c15173434d",
        "colab": {
          "base_uri": "https://localhost:8080/"
        }
      },
      "execution_count": null,
      "outputs": [
        {
          "output_type": "stream",
          "name": "stdout",
          "text": [
            "/content\n",
            "example_json.json  example_text_file.txt  sample_data\n",
            "example_module.py  __pycache__\n"
          ]
        }
      ]
    },
    {
      "cell_type": "code",
      "execution_count": null,
      "metadata": {
        "colab": {
          "base_uri": "https://localhost:8080/"
        },
        "id": "RFfThIPkafX5",
        "outputId": "c6404bed-947c-440f-e815-80629d670586"
      },
      "outputs": [
        {
          "output_type": "stream",
          "name": "stdout",
          "text": [
            "  % Total    % Received % Xferd  Average Speed   Time    Time     Time  Current\n",
            "                                 Dload  Upload   Total   Spent    Left  Speed\n",
            "100    11  100    11    0     0    500      0 --:--:-- --:--:-- --:--:--   500\n",
            "  % Total    % Received % Xferd  Average Speed   Time    Time     Time  Current\n",
            "                                 Dload  Upload   Total   Spent    Left  Speed\n",
            "100    41  100    41    0     0   1952      0 --:--:-- --:--:-- --:--:--  1952\n"
          ]
        }
      ],
      "source": [
        "# just for jupyter notebook that store in github. if store in local, it can be direct access\n",
        "\n",
        "# clone the entire repo\n",
        "\"\"\"\n",
        "!git clone https://github.com/tc11echo/data-structure-and-algorithm-in-python.git\n",
        "%cd cloned-repo\n",
        "!ls\n",
        "\"\"\"\n",
        "\n",
        "# fetch a single <1mb file using the raw github url\n",
        "!curl --remote-name -H 'Accept: application/vnd.github.v3.raw' --location https://raw.githubusercontent.com/tc11echo/data-structure-and-algorithm-in-python/main/basic_concept/example_text_file.txt\n",
        "!curl --remote-name -H 'Accept: application/vnd.github.v3.raw' --location https://raw.githubusercontent.com/tc11echo/data-structure-and-algorithm-in-python/main/basic_concept/example_json.json"
      ]
    },
    {
      "cell_type": "markdown",
      "source": [
        "[example_text_file.txt](example_text_file.txt)\n",
        "\n",
        "[example_json.json](example_json.json)"
      ],
      "metadata": {
        "id": "b8gZnpe4Q-q1"
      }
    },
    {
      "cell_type": "code",
      "execution_count": null,
      "metadata": {
        "colab": {
          "base_uri": "https://localhost:8080/"
        },
        "id": "oOpM0vaEVdog",
        "outputId": "e828f04f-96e6-41df-eedd-bd7efcd1e934"
      },
      "outputs": [
        {
          "output_type": "stream",
          "name": "stdout",
          "text": [
            "Hello\n",
            "World"
          ]
        },
        {
          "output_type": "execute_result",
          "data": {
            "text/plain": [
              "'\\nwith open(r\"example_text_file.txt\", mode=\"w\", encoding=\"utf-8\") as fp:\\n  fp.write(\"Line1\\n\")\\n  fp.write(\"Line2\\n\")\\n'"
            ],
            "application/vnd.google.colaboratory.intrinsic+json": {
              "type": "string"
            }
          },
          "metadata": {},
          "execution_count": 112
        }
      ],
      "source": [
        "# read (better way, automatically close file)\n",
        "with open(r\"example_text_file.txt\", \"r\") as fp:\n",
        "  for line in fp:\n",
        "    print(line, end=\"\")\n",
        "\n",
        "# read\n",
        "\"\"\"\n",
        "fp=open(r\"example_text_file.txt\")\n",
        "print(fp.read())\n",
        "fp.close()\n",
        "\"\"\"\n",
        "\n",
        "# write\n",
        "\"\"\"\n",
        "with open(r\"example_text_file.txt\", mode=\"w\", encoding=\"utf-8\") as fp:\n",
        "  fp.write(\"Line1\\n\")\n",
        "  fp.write(\"Line2\\n\")\n",
        "\"\"\""
      ]
    },
    {
      "cell_type": "code",
      "execution_count": null,
      "metadata": {
        "colab": {
          "base_uri": "https://localhost:8080/"
        },
        "id": "bBIjOnTZV0JC",
        "outputId": "5856d95b-136f-4981-c0b0-62b5c7568ffb"
      },
      "outputs": [
        {
          "output_type": "stream",
          "name": "stdout",
          "text": [
            "Name: My Name\n",
            "Version: 1.2.30\n"
          ]
        },
        {
          "output_type": "execute_result",
          "data": {
            "text/plain": [
              "'\\ndata[\"name\"]=\"New name\"\\nwith open(\"example_json.json\", mode=\"w\") as fp:\\n  json.dump(data, fp)\\n'"
            ],
            "application/vnd.google.colaboratory.intrinsic+json": {
              "type": "string"
            }
          },
          "metadata": {},
          "execution_count": 113
        }
      ],
      "source": [
        "import json\n",
        "\n",
        "# json read\n",
        "with open(r\"example_json.json\", mode=\"r\") as fp:\n",
        "  data=json.load(fp)\n",
        "print(\"Name: \"+data[\"name\"])\n",
        "print(\"Version: \"+data[\"version\"])\n",
        "\n",
        "# json write\n",
        "\"\"\"\n",
        "data[\"name\"]=\"New name\"\n",
        "with open(\"example_json.json\", mode=\"w\") as fp:\n",
        "  json.dump(data, fp)\n",
        "\"\"\""
      ]
    },
    {
      "cell_type": "markdown",
      "metadata": {
        "id": "fakFygJY2_qH"
      },
      "source": [
        "# Error Handling"
      ]
    },
    {
      "cell_type": "code",
      "execution_count": null,
      "metadata": {
        "colab": {
          "base_uri": "https://localhost:8080/"
        },
        "id": "9qpaW-8D2__T",
        "outputId": "247cefe7-7f26-4c60-cd9b-729e9d340096"
      },
      "outputs": [
        {
          "output_type": "stream",
          "name": "stdout",
          "text": [
            "Zero Division Error Detected\n"
          ]
        }
      ],
      "source": [
        "\"\"\"\n",
        "try:\n",
        "  statment_1\n",
        "except exception_name:\n",
        "  statment_2\n",
        "\"\"\"\n",
        "\n",
        "try:\n",
        "  print(3/0)\n",
        "except NameError:\n",
        "  print (\"Name Error Detected\")\n",
        "except KeyError:\n",
        "  print (\"Key Error Detected\")\n",
        "except ValueError:\n",
        "  print(\"Value Error Detected\")\n",
        "except IndexError:\n",
        "  print(\"Index Error Detected\")\n",
        "except ZeroDivisionError:\n",
        "  print(\"Zero Division Error Detected\")\n",
        "except AttributeError:\n",
        "  print(\"object has no attribute\")\n",
        "except TypeError:\n",
        "  print(\"object does not support item assignment\")\n",
        "except Exception:\n",
        "  print(\"Other Error\")"
      ]
    }
  ],
  "metadata": {
    "colab": {
      "collapsed_sections": [],
      "name": "intro_python.ipynb",
      "provenance": [],
      "include_colab_link": true
    },
    "interpreter": {
      "hash": "b3ba2566441a7c06988d0923437866b63cedc61552a5af99d1f4fb67d367b25f"
    },
    "kernelspec": {
      "display_name": "Python 3 (ipykernel)",
      "language": "python",
      "name": "python3"
    },
    "language_info": {
      "codemirror_mode": {
        "name": "ipython",
        "version": 3
      },
      "file_extension": ".py",
      "mimetype": "text/x-python",
      "name": "python",
      "nbconvert_exporter": "python",
      "pygments_lexer": "ipython3",
      "version": "3.9.12"
    }
  },
  "nbformat": 4,
  "nbformat_minor": 0
}